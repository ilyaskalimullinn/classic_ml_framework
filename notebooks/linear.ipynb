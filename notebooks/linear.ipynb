{
 "cells": [
  {
   "cell_type": "markdown",
   "metadata": {},
   "source": [
    "# Linear regression"
   ]
  },
  {
   "cell_type": "code",
   "execution_count": 1,
   "metadata": {},
   "outputs": [],
   "source": [
    "import sys\n",
    "\n",
    "sys.path.insert(1, \"..\")\n",
    "\n",
    "from classic.model.linear import (\n",
    "    LinearRegression,\n",
    "    RidgeRegression,\n",
    "    SGDRegression,\n",
    "    LogisticRegression,\n",
    ")\n",
    "from classic.util.scheduler import StaticScheduler\n",
    "from sklearn.datasets import load_diabetes, load_breast_cancer\n",
    "from sklearn.model_selection import train_test_split\n",
    "from sklearn.metrics import mean_squared_error, accuracy_score\n",
    "from sklearn import linear_model"
   ]
  },
  {
   "cell_type": "code",
   "execution_count": 2,
   "metadata": {},
   "outputs": [],
   "source": [
    "dataset = load_diabetes()\n",
    "X, y = dataset[\"data\"], dataset[\"target\"]\n",
    "X_train, X_test, y_train, y_test = train_test_split(X, y, test_size=0.3)"
   ]
  },
  {
   "cell_type": "markdown",
   "metadata": {},
   "source": [
    "## 1. Simple Linear Regression"
   ]
  },
  {
   "cell_type": "code",
   "execution_count": 3,
   "metadata": {},
   "outputs": [
    {
     "name": "stdout",
     "output_type": "stream",
     "text": [
      "My MSE=3300.469378319162, sklearn MSE=3300.4693783191583\n"
     ]
    }
   ],
   "source": [
    "lr = LinearRegression()\n",
    "lr.fit(X_train, y_train)\n",
    "pred = lr.predict(X_test)\n",
    "\n",
    "lr_sklearn = linear_model.LinearRegression()\n",
    "lr_sklearn.fit(X_train, y_train)\n",
    "pred_sklearn = lr_sklearn.predict(X_test)\n",
    "\n",
    "mse = mean_squared_error(y_test, pred)\n",
    "mse_sklearn = mean_squared_error(y_test, pred_sklearn)\n",
    "\n",
    "print(f\"My MSE={mse}, sklearn MSE={mse_sklearn}\")"
   ]
  },
  {
   "cell_type": "markdown",
   "metadata": {},
   "source": [
    "## 2. Ridge Regression"
   ]
  },
  {
   "cell_type": "code",
   "execution_count": 4,
   "metadata": {},
   "outputs": [
    {
     "name": "stdout",
     "output_type": "stream",
     "text": [
      "Ridge mse = 3276.2339721547014\n"
     ]
    }
   ],
   "source": [
    "ridge = RidgeRegression(alpha=0.05)\n",
    "ridge.fit(X_train, y_train)\n",
    "pred = ridge.predict(X_test)\n",
    "print(f\"Ridge mse = {mean_squared_error(y_test, pred)}\")"
   ]
  },
  {
   "cell_type": "markdown",
   "metadata": {},
   "source": [
    "## 3. SGDRegression"
   ]
  },
  {
   "cell_type": "code",
   "execution_count": 5,
   "metadata": {},
   "outputs": [
    {
     "name": "stdout",
     "output_type": "stream",
     "text": [
      "SGD Regression mse = 3239.904604924718\n"
     ]
    }
   ],
   "source": [
    "scheduler = StaticScheduler(learning_rate=1e-2)\n",
    "sgd = SGDRegression(\n",
    "    n_epochs=50_000, batch_size=32, alpha=0.0005, lr_scheduler=scheduler\n",
    ")\n",
    "sgd.fit(X_train, y_train)\n",
    "pred = sgd.predict(X_test)\n",
    "print(f\"SGD Regression mse = {mean_squared_error(y_test, pred)}\")"
   ]
  },
  {
   "cell_type": "code",
   "execution_count": 6,
   "metadata": {},
   "outputs": [
    {
     "name": "stdout",
     "output_type": "stream",
     "text": [
      "Sklearn SGD Regression mse = 3249.4643914031963\n"
     ]
    }
   ],
   "source": [
    "sgd_sklearn = linear_model.SGDRegressor(max_iter=50000)\n",
    "sgd_sklearn.fit(X_train, y_train)\n",
    "pred = sgd_sklearn.predict(X_test)\n",
    "print(f\"Sklearn SGD Regression mse = {mean_squared_error(y_test, pred)}\")"
   ]
  },
  {
   "cell_type": "markdown",
   "metadata": {},
   "source": [
    "# Linear classification"
   ]
  },
  {
   "cell_type": "code",
   "execution_count": 7,
   "metadata": {},
   "outputs": [],
   "source": [
    "dataset = load_breast_cancer()\n",
    "X, y = dataset.data, dataset.target\n",
    "y[y == 0] = -1\n",
    "X_train, X_test, y_train, y_test = train_test_split(X, y, test_size=0.3)"
   ]
  },
  {
   "cell_type": "markdown",
   "metadata": {},
   "source": [
    "## 1. Logistic Regression"
   ]
  },
  {
   "cell_type": "code",
   "execution_count": 8,
   "metadata": {},
   "outputs": [
    {
     "name": "stdout",
     "output_type": "stream",
     "text": [
      "Accuracy = 0.8888888888888888\n"
     ]
    }
   ],
   "source": [
    "scheduler = StaticScheduler(learning_rate=1e-2)\n",
    "logreg = LogisticRegression(\n",
    "    n_epochs=5_000, batch_size=32, alpha=0.0005, lr_scheduler=scheduler\n",
    ")\n",
    "logreg.fit(X_train, y_train)\n",
    "pred = logreg.predict(X_test)\n",
    "print(f\"Accuracy = {accuracy_score(y_test, pred)}\")"
   ]
  },
  {
   "cell_type": "code",
   "execution_count": 9,
   "metadata": {},
   "outputs": [
    {
     "name": "stdout",
     "output_type": "stream",
     "text": [
      "Accuracy (Sklearn) = 0.9532163742690059\n"
     ]
    }
   ],
   "source": [
    "logreg_sklearn = linear_model.LogisticRegression(max_iter=5000)\n",
    "logreg_sklearn.fit(X_train, y_train)\n",
    "pred = logreg_sklearn.predict(X_test)\n",
    "print(f\"Accuracy (Sklearn) = {accuracy_score(y_test, pred)}\")"
   ]
  }
 ],
 "metadata": {
  "kernelspec": {
   "display_name": "base",
   "language": "python",
   "name": "python3"
  },
  "language_info": {
   "codemirror_mode": {
    "name": "ipython",
    "version": 3
   },
   "file_extension": ".py",
   "mimetype": "text/x-python",
   "name": "python",
   "nbconvert_exporter": "python",
   "pygments_lexer": "ipython3",
   "version": "3.11.5"
  }
 },
 "nbformat": 4,
 "nbformat_minor": 2
}
