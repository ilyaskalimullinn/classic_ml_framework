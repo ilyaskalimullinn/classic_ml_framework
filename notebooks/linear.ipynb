{
 "cells": [
  {
   "cell_type": "markdown",
   "metadata": {},
   "source": [
    "# Linear regression"
   ]
  },
  {
   "cell_type": "code",
   "execution_count": 1,
   "metadata": {},
   "outputs": [],
   "source": [
    "from classic.model.linear import LinearRegression, RidgeRegression, SGDRegression, LogisticRegression\n",
    "from classic.util.scheduler import StaticScheduler\n",
    "import numpy as np\n",
    "import matplotlib.pyplot as plt\n",
    "from sklearn.datasets import load_diabetes, load_breast_cancer\n",
    "from sklearn.model_selection import train_test_split\n",
    "from sklearn.metrics import mean_squared_error, accuracy_score\n",
    "from sklearn import linear_model"
   ]
  },
  {
   "cell_type": "code",
   "execution_count": 2,
   "metadata": {},
   "outputs": [
    {
     "data": {
      "text/plain": [
       "dict_keys(['data', 'target', 'frame', 'DESCR', 'feature_names', 'data_filename', 'target_filename', 'data_module'])"
      ]
     },
     "execution_count": 2,
     "metadata": {},
     "output_type": "execute_result"
    }
   ],
   "source": [
    "dataset = load_diabetes()\n",
    "dataset.keys()"
   ]
  },
  {
   "cell_type": "code",
   "execution_count": 3,
   "metadata": {},
   "outputs": [
    {
     "data": {
      "text/plain": [
       "array([151.,  75.])"
      ]
     },
     "execution_count": 3,
     "metadata": {},
     "output_type": "execute_result"
    }
   ],
   "source": [
    "X, y = dataset['data'], dataset['target']\n",
    "y[:2]"
   ]
  },
  {
   "cell_type": "code",
   "execution_count": 4,
   "metadata": {},
   "outputs": [],
   "source": [
    "X_train, X_test, y_train, y_test = train_test_split(X, y, test_size=0.3)"
   ]
  },
  {
   "cell_type": "markdown",
   "metadata": {},
   "source": [
    "## 1. Simple Linear Regression"
   ]
  },
  {
   "cell_type": "code",
   "execution_count": 5,
   "metadata": {},
   "outputs": [],
   "source": [
    "lr = LinearRegression()\n",
    "lr.fit(X_train, y_train)"
   ]
  },
  {
   "cell_type": "code",
   "execution_count": 6,
   "metadata": {},
   "outputs": [],
   "source": [
    "pred = lr.predict(X_test)"
   ]
  },
  {
   "cell_type": "code",
   "execution_count": 7,
   "metadata": {},
   "outputs": [],
   "source": [
    "lr_sklearn = linear_model.LinearRegression()\n",
    "lr_sklearn.fit(X_train, y_train)\n",
    "pred_sklearn = lr_sklearn.predict(X_test)"
   ]
  },
  {
   "cell_type": "code",
   "execution_count": 8,
   "metadata": {},
   "outputs": [
    {
     "name": "stdout",
     "output_type": "stream",
     "text": [
      "My MSE=2861.200880556817, sklearn MSE=2861.2008805568184\n"
     ]
    }
   ],
   "source": [
    "mse = mean_squared_error(y_test, pred)\n",
    "mse_sklearn = mean_squared_error(y_test, pred_sklearn)\n",
    "\n",
    "print(f\"My MSE={mse}, sklearn MSE={mse_sklearn}\")"
   ]
  },
  {
   "cell_type": "markdown",
   "metadata": {},
   "source": [
    "## 2. Ridge Regression"
   ]
  },
  {
   "cell_type": "code",
   "execution_count": 9,
   "metadata": {},
   "outputs": [
    {
     "name": "stdout",
     "output_type": "stream",
     "text": [
      "Ridge mse = 2780.8287336334374\n"
     ]
    }
   ],
   "source": [
    "ridge = RidgeRegression(alpha=0.05)\n",
    "ridge.fit(X_train, y_train)\n",
    "pred = ridge.predict(X_test)\n",
    "print(f\"Ridge mse = {mean_squared_error(y_test, pred)}\")"
   ]
  },
  {
   "cell_type": "markdown",
   "metadata": {},
   "source": [
    "## 3. SGDRegression"
   ]
  },
  {
   "cell_type": "code",
   "execution_count": 10,
   "metadata": {},
   "outputs": [
    {
     "name": "stdout",
     "output_type": "stream",
     "text": [
      "SGD Regression mse = 2741.327356741339\n"
     ]
    }
   ],
   "source": [
    "scheduler = StaticScheduler(learning_rate=1e-2)\n",
    "sgd = SGDRegression(n_epochs=50_000, batch_size=32, alpha=0.0005, lr_scheduler=scheduler)\n",
    "sgd.fit(X_train, y_train)\n",
    "pred = sgd.predict(X_test)\n",
    "print(f\"SGD Regression mse = {mean_squared_error(y_test, pred)}\")"
   ]
  },
  {
   "cell_type": "code",
   "execution_count": 11,
   "metadata": {},
   "outputs": [
    {
     "name": "stdout",
     "output_type": "stream",
     "text": [
      "Sklearn SGD Regression mse = 2717.438528301624\n"
     ]
    }
   ],
   "source": [
    "sgd_sklearn = linear_model.SGDRegressor(max_iter=50000)\n",
    "sgd_sklearn.fit(X_train, y_train)\n",
    "pred = sgd_sklearn.predict(X_test)\n",
    "print(f\"Sklearn SGD Regression mse = {mean_squared_error(y_test, pred)}\")"
   ]
  },
  {
   "cell_type": "markdown",
   "metadata": {},
   "source": [
    "# Linear classification"
   ]
  },
  {
   "cell_type": "code",
   "execution_count": 12,
   "metadata": {},
   "outputs": [
    {
     "data": {
      "text/plain": [
       "array([0, 1])"
      ]
     },
     "execution_count": 12,
     "metadata": {},
     "output_type": "execute_result"
    }
   ],
   "source": [
    "dataset = load_breast_cancer()\n",
    "X, y = dataset.data, dataset.target\n",
    "np.unique(y)"
   ]
  },
  {
   "cell_type": "code",
   "execution_count": 13,
   "metadata": {},
   "outputs": [],
   "source": [
    "y[y == 0] = -1\n",
    "X_train, X_test, y_train, y_test = train_test_split(X, y, test_size=0.3)"
   ]
  },
  {
   "cell_type": "markdown",
   "metadata": {},
   "source": [
    "## 1. Logistic Regression"
   ]
  },
  {
   "cell_type": "code",
   "execution_count": 26,
   "metadata": {},
   "outputs": [
    {
     "name": "stdout",
     "output_type": "stream",
     "text": [
      "Accuracy = 0.9181286549707602\n"
     ]
    }
   ],
   "source": [
    "scheduler = StaticScheduler(learning_rate=1e-2)\n",
    "logreg = LogisticRegression(n_epochs=5_000, batch_size=32, alpha=0.0005, lr_scheduler=scheduler)\n",
    "logreg.fit(X_train, y_train)\n",
    "pred = logreg.predict(X_test)\n",
    "print(f\"Accuracy = {accuracy_score(y_test, pred)}\")"
   ]
  },
  {
   "cell_type": "code",
   "execution_count": 17,
   "metadata": {},
   "outputs": [
    {
     "name": "stdout",
     "output_type": "stream",
     "text": [
      "Accuracy = 0.9649122807017544\n"
     ]
    }
   ],
   "source": [
    "logreg_sklearn = linear_model.LogisticRegression(max_iter=5000)\n",
    "logreg_sklearn.fit(X_train, y_train)\n",
    "pred = logreg_sklearn.predict(X_test)\n",
    "print(f\"Accuracy = {accuracy_score(y_test, pred)}\")"
   ]
  }
 ],
 "metadata": {
  "kernelspec": {
   "display_name": "base",
   "language": "python",
   "name": "python3"
  },
  "language_info": {
   "codemirror_mode": {
    "name": "ipython",
    "version": 3
   },
   "file_extension": ".py",
   "mimetype": "text/x-python",
   "name": "python",
   "nbconvert_exporter": "python",
   "pygments_lexer": "ipython3",
   "version": "3.11.6"
  }
 },
 "nbformat": 4,
 "nbformat_minor": 2
}
