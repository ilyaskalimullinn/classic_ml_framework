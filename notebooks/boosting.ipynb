{
 "cells": [
  {
   "cell_type": "markdown",
   "metadata": {},
   "source": [
    "# Gradient Boosting"
   ]
  },
  {
   "cell_type": "code",
   "execution_count": 1,
   "metadata": {},
   "outputs": [],
   "source": [
    "from classic.model.ensemble import GradientBoostingClassifier, GradientBoostingRegressor\n",
    "from sklearn.datasets import load_diabetes, load_digits\n",
    "from sklearn import ensemble\n",
    "from sklearn.metrics import accuracy_score, mean_squared_error\n",
    "from sklearn.model_selection import train_test_split"
   ]
  },
  {
   "cell_type": "markdown",
   "metadata": {},
   "source": [
    "## 1. GradientBoostingRegressor"
   ]
  },
  {
   "cell_type": "code",
   "execution_count": 2,
   "metadata": {},
   "outputs": [
    {
     "data": {
      "text/plain": [
       "array([[ 0.03081083,  0.05068012,  0.04660684, -0.01599898,  0.02044629,\n",
       "         0.05066877, -0.0581274 ,  0.07120998,  0.00620674,  0.00720652],\n",
       "       [-0.00188202, -0.04464164,  0.05415152, -0.0665056 ,  0.07273249,\n",
       "         0.05661859, -0.04340085,  0.08486339,  0.08449153,  0.04862759]])"
      ]
     },
     "execution_count": 2,
     "metadata": {},
     "output_type": "execute_result"
    }
   ],
   "source": [
    "dataset = load_diabetes()\n",
    "X, y = dataset[\"data\"], dataset[\"target\"]\n",
    "X_train, X_test, y_train, y_test = train_test_split(X, y, test_size=0.3)\n",
    "X_train[:2]"
   ]
  },
  {
   "cell_type": "code",
   "execution_count": 3,
   "metadata": {},
   "outputs": [
    {
     "name": "stdout",
     "output_type": "stream",
     "text": [
      "Decision Tree Regressor mse = 3722.0576951594817\n"
     ]
    }
   ],
   "source": [
    "gbr = GradientBoostingRegressor(n_estimators=100, learning_rate=0.1, max_depth=2)\n",
    "gbr.fit(X_train, y_train)\n",
    "pred = gbr.predict(X_test)\n",
    "print(f\"Decision Tree Regressor mse = {mean_squared_error(y_test, pred)}\")"
   ]
  },
  {
   "cell_type": "code",
   "execution_count": 4,
   "metadata": {},
   "outputs": [
    {
     "name": "stdout",
     "output_type": "stream",
     "text": [
      "Decision Tree Regressor mse = 3859.001102197477\n"
     ]
    }
   ],
   "source": [
    "gbr = ensemble.GradientBoostingRegressor(\n",
    "    n_estimators=100, learning_rate=0.1, max_depth=2\n",
    ")\n",
    "gbr.fit(X_train, y_train)\n",
    "pred = gbr.predict(X_test)\n",
    "print(f\"Decision Tree Regressor mse = {mean_squared_error(y_test, pred)}\")"
   ]
  },
  {
   "cell_type": "markdown",
   "metadata": {},
   "source": [
    "## 2. GradientBoostingClassifier"
   ]
  },
  {
   "cell_type": "code",
   "execution_count": 5,
   "metadata": {},
   "outputs": [
    {
     "data": {
      "text/plain": [
       "array([[ 0.,  0.,  2., 10., 16.,  4.,  0.,  0.,  1., 10., 16., 16., 15.,\n",
       "         4.,  0.,  0.,  0., 16., 16., 10.,  1.,  0.,  0.,  0.,  0., 15.,\n",
       "        16., 16.,  7.,  0.,  0.,  0.,  0.,  5., 11.,  5., 15.,  2.,  0.,\n",
       "         0.,  0.,  0.,  0.,  0., 11.,  9.,  0.,  0.,  0.,  0.,  3., 10.,\n",
       "        16.,  9.,  0.,  0.,  0.,  0.,  2., 16., 15.,  2.,  0.,  0.],\n",
       "       [ 0.,  0.,  6., 15.,  4.,  0.,  0.,  0.,  0.,  1., 14.,  7.,  0.,\n",
       "         0.,  0.,  0.,  0.,  4., 15.,  1.,  0.,  0.,  0.,  0.,  0.,  5.,\n",
       "        11.,  0.,  2.,  1.,  0.,  0.,  0.,  4., 13., 12., 16., 13.,  3.,\n",
       "         0.,  0.,  1., 16.,  2.,  1.,  8., 10.,  0.,  0.,  0., 12.,  4.,\n",
       "         0., 11., 12.,  0.,  0.,  0.,  4., 13., 12., 14.,  2.,  0.]])"
      ]
     },
     "execution_count": 5,
     "metadata": {},
     "output_type": "execute_result"
    }
   ],
   "source": [
    "dataset = load_digits()\n",
    "X, y = dataset[\"data\"], dataset[\"target\"]\n",
    "X = X.reshape(-1, 64)\n",
    "X_train, X_test, y_train, y_test = train_test_split(X, y, test_size=0.3)\n",
    "X_train[:2]"
   ]
  },
  {
   "cell_type": "code",
   "execution_count": 6,
   "metadata": {},
   "outputs": [
    {
     "name": "stdout",
     "output_type": "stream",
     "text": [
      "Accuracy = 0.9092592592592592\n"
     ]
    }
   ],
   "source": [
    "gbc = GradientBoostingClassifier(\n",
    "    num_classes=10, n_estimators=200, learning_rate=0.1, max_depth=2\n",
    ")\n",
    "gbc.fit(X_train, y_train)\n",
    "pred = gbc.predict(X_test)\n",
    "pred_ = pred.argmax(axis=1)\n",
    "print(f\"Accuracy = {accuracy_score(y_test, pred_)}\")"
   ]
  },
  {
   "cell_type": "code",
   "execution_count": 7,
   "metadata": {},
   "outputs": [
    {
     "name": "stdout",
     "output_type": "stream",
     "text": [
      "Accuracy = 0.9574074074074074\n"
     ]
    }
   ],
   "source": [
    "gbc = ensemble.GradientBoostingClassifier(\n",
    "    n_estimators=200, learning_rate=0.1, max_depth=2\n",
    ")\n",
    "gbc.fit(X_train, y_train)\n",
    "pred = gbc.predict(X_test)\n",
    "print(f\"Accuracy = {accuracy_score(y_test, pred)}\")"
   ]
  }
 ],
 "metadata": {
  "kernelspec": {
   "display_name": "base",
   "language": "python",
   "name": "python3"
  },
  "language_info": {
   "codemirror_mode": {
    "name": "ipython",
    "version": 3
   },
   "file_extension": ".py",
   "mimetype": "text/x-python",
   "name": "python",
   "nbconvert_exporter": "python",
   "pygments_lexer": "ipython3",
   "version": "3.11.5"
  }
 },
 "nbformat": 4,
 "nbformat_minor": 2
}
