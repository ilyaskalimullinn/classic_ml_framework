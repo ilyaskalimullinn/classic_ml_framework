{
 "cells": [
  {
   "cell_type": "markdown",
   "metadata": {},
   "source": [
    "# Gradient Boosting"
   ]
  },
  {
   "cell_type": "code",
   "execution_count": 1,
   "metadata": {},
   "outputs": [],
   "source": [
    "import sys\n",
    "\n",
    "sys.path.insert(1, \"..\")\n",
    "\n",
    "from classic.model.ensemble import GradientBoostingClassifier, GradientBoostingRegressor\n",
    "from sklearn.datasets import load_diabetes, load_digits\n",
    "from sklearn import ensemble\n",
    "from sklearn.metrics import accuracy_score, mean_squared_error\n",
    "from sklearn.model_selection import train_test_split"
   ]
  },
  {
   "cell_type": "markdown",
   "metadata": {},
   "source": [
    "## 1. GradientBoostingRegressor"
   ]
  },
  {
   "cell_type": "code",
   "execution_count": 2,
   "metadata": {},
   "outputs": [
    {
     "data": {
      "text/plain": [
       "array([[-0.01277963,  0.05068012, -0.05578531, -0.00222757, -0.02771206,\n",
       "        -0.02918409,  0.019187  , -0.03949338, -0.01705628,  0.04448548],\n",
       "       [ 0.09619652, -0.04464164,  0.04013997, -0.05731319,  0.04521344,\n",
       "         0.06068952, -0.02131102,  0.03615391,  0.01255119,  0.02377494]])"
      ]
     },
     "execution_count": 2,
     "metadata": {},
     "output_type": "execute_result"
    }
   ],
   "source": [
    "dataset = load_diabetes()\n",
    "X, y = dataset[\"data\"], dataset[\"target\"]\n",
    "X_train, X_test, y_train, y_test = train_test_split(X, y, test_size=0.3)\n",
    "X_train[:2]"
   ]
  },
  {
   "cell_type": "code",
   "execution_count": 3,
   "metadata": {},
   "outputs": [
    {
     "name": "stdout",
     "output_type": "stream",
     "text": [
      "Decision Tree Regressor mse = 3405.0490380060082\n"
     ]
    }
   ],
   "source": [
    "gbr = GradientBoostingRegressor(n_estimators=100, learning_rate=0.1, max_depth=2)\n",
    "gbr.fit(X_train, y_train)\n",
    "pred = gbr.predict(X_test)\n",
    "print(f\"Decision Tree Regressor mse = {mean_squared_error(y_test, pred)}\")"
   ]
  },
  {
   "cell_type": "code",
   "execution_count": 4,
   "metadata": {},
   "outputs": [
    {
     "name": "stdout",
     "output_type": "stream",
     "text": [
      "Decision Tree Regressor (Sklearn) mse = 3567.021574760132\n"
     ]
    }
   ],
   "source": [
    "gbr = ensemble.GradientBoostingRegressor(\n",
    "    n_estimators=100, learning_rate=0.1, max_depth=2\n",
    ")\n",
    "gbr.fit(X_train, y_train)\n",
    "pred = gbr.predict(X_test)\n",
    "print(f\"Decision Tree Regressor (Sklearn) mse = {mean_squared_error(y_test, pred)}\")"
   ]
  },
  {
   "cell_type": "markdown",
   "metadata": {},
   "source": [
    "## 2. GradientBoostingClassifier"
   ]
  },
  {
   "cell_type": "code",
   "execution_count": 5,
   "metadata": {},
   "outputs": [
    {
     "data": {
      "text/plain": [
       "array([[ 0.,  0.,  9.,  9.,  4.,  0.,  0.,  0.,  0.,  0., 15., 15., 14.,\n",
       "        12.,  0.,  0.,  0.,  3., 10.,  1.,  0., 12.,  5.,  0.,  0.,  5.,\n",
       "         8.,  0.,  0.,  8.,  6.,  0.,  0.,  8.,  8.,  0.,  0.,  8.,  8.,\n",
       "         0.,  0.,  5.,  8.,  0.,  0., 10.,  6.,  0.,  0.,  4., 13.,  4.,\n",
       "         6., 13.,  0.,  0.,  0.,  0.,  6., 16., 14.,  3.,  0.,  0.],\n",
       "       [ 0.,  0.,  0., 13.,  9.,  0.,  0.,  0.,  0.,  0.,  6., 16.,  2.,\n",
       "         0.,  0.,  0.,  0.,  0., 12.,  9.,  0.,  2.,  0.,  0.,  0.,  7.,\n",
       "        15.,  1.,  5., 15.,  1.,  0.,  0., 14., 10.,  4., 11., 12.,  3.,\n",
       "         0.,  2., 16., 16., 16., 16., 13.,  2.,  0.,  0.,  3.,  4., 11.,\n",
       "        14.,  0.,  0.,  0.,  0.,  0.,  0., 15.,  4.,  0.,  0.,  0.]])"
      ]
     },
     "execution_count": 5,
     "metadata": {},
     "output_type": "execute_result"
    }
   ],
   "source": [
    "dataset = load_digits()\n",
    "X, y = dataset[\"data\"], dataset[\"target\"]\n",
    "X = X.reshape(-1, 64)\n",
    "X_train, X_test, y_train, y_test = train_test_split(X, y, test_size=0.3)\n",
    "X_train[:2]"
   ]
  },
  {
   "cell_type": "code",
   "execution_count": 6,
   "metadata": {},
   "outputs": [
    {
     "name": "stdout",
     "output_type": "stream",
     "text": [
      "Accuracy = 0.8685185185185185\n"
     ]
    }
   ],
   "source": [
    "gbc = GradientBoostingClassifier(\n",
    "    num_classes=10, n_estimators=200, learning_rate=0.1, max_depth=2\n",
    ")\n",
    "gbc.fit(X_train, y_train)\n",
    "pred = gbc.predict(X_test)\n",
    "pred_ = pred.argmax(axis=1)\n",
    "print(f\"Accuracy = {accuracy_score(y_test, pred_)}\")"
   ]
  },
  {
   "cell_type": "code",
   "execution_count": 7,
   "metadata": {},
   "outputs": [
    {
     "name": "stdout",
     "output_type": "stream",
     "text": [
      "Accuracy (Sklearn) = 0.9611111111111111\n"
     ]
    }
   ],
   "source": [
    "gbc = ensemble.GradientBoostingClassifier(\n",
    "    n_estimators=200, learning_rate=0.1, max_depth=2\n",
    ")\n",
    "gbc.fit(X_train, y_train)\n",
    "pred = gbc.predict(X_test)\n",
    "print(f\"Accuracy (Sklearn) = {accuracy_score(y_test, pred)}\")"
   ]
  }
 ],
 "metadata": {
  "kernelspec": {
   "display_name": "base",
   "language": "python",
   "name": "python3"
  },
  "language_info": {
   "codemirror_mode": {
    "name": "ipython",
    "version": 3
   },
   "file_extension": ".py",
   "mimetype": "text/x-python",
   "name": "python",
   "nbconvert_exporter": "python",
   "pygments_lexer": "ipython3",
   "version": "3.11.5"
  }
 },
 "nbformat": 4,
 "nbformat_minor": 2
}
