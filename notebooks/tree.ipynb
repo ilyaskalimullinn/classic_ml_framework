{
 "cells": [
  {
   "cell_type": "markdown",
   "metadata": {},
   "source": [
    "# Trees"
   ]
  },
  {
   "cell_type": "code",
   "execution_count": 1,
   "metadata": {},
   "outputs": [],
   "source": [
    "import sys\n",
    "\n",
    "sys.path.insert(1, \"..\")\n",
    "\n",
    "from classic.model.tree import DecisionTreeRegressor, DecisionTreeClassifier\n",
    "from classic.model.ensemble import RandomForestRegressor, RandomForestClassifier\n",
    "from sklearn.datasets import load_diabetes, load_digits\n",
    "from sklearn import tree, ensemble\n",
    "from sklearn.metrics import accuracy_score, mean_squared_error\n",
    "from sklearn.model_selection import train_test_split"
   ]
  },
  {
   "cell_type": "code",
   "execution_count": 2,
   "metadata": {},
   "outputs": [
    {
     "data": {
      "text/plain": [
       "array([[ 0.01991321, -0.04464164,  0.00457217,  0.04597234, -0.01808039,\n",
       "        -0.05454912,  0.06336665, -0.03949338,  0.02865846,  0.06105391],\n",
       "       [-0.09996055, -0.04464164, -0.06764124, -0.10895595, -0.07449446,\n",
       "        -0.07271173,  0.01550536, -0.03949338, -0.04987245, -0.00936191]])"
      ]
     },
     "execution_count": 2,
     "metadata": {},
     "output_type": "execute_result"
    }
   ],
   "source": [
    "dataset = load_diabetes()\n",
    "X, y = dataset['data'], dataset['target']\n",
    "X_train, X_test, y_train, y_test = train_test_split(X, y, test_size=0.3)\n",
    "X_train[:2]"
   ]
  },
  {
   "cell_type": "markdown",
   "metadata": {},
   "source": [
    "## 1. DecisionTreeRegressor"
   ]
  },
  {
   "cell_type": "code",
   "execution_count": 3,
   "metadata": {},
   "outputs": [
    {
     "name": "stdout",
     "output_type": "stream",
     "text": [
      "Decision Tree Regressor mse = 4218.546797954536\n"
     ]
    }
   ],
   "source": [
    "dtr = DecisionTreeRegressor(max_depth=3, min_samples_split=5)\n",
    "dtr.fit(X_train, y_train)\n",
    "pred = dtr.predict(X_test)\n",
    "print(f\"Decision Tree Regressor mse = {mean_squared_error(y_test, pred)}\")"
   ]
  },
  {
   "cell_type": "code",
   "execution_count": 4,
   "metadata": {},
   "outputs": [
    {
     "name": "stdout",
     "output_type": "stream",
     "text": [
      "Decision Tree Regressor (Sklearn) mse = 4192.416768542552\n"
     ]
    }
   ],
   "source": [
    "dtr_sklearn = tree.DecisionTreeRegressor(max_depth=3, min_samples_split=5)\n",
    "dtr_sklearn.fit(X_train, y_train)\n",
    "pred = dtr_sklearn.predict(X_test)\n",
    "print(f\"Decision Tree Regressor (Sklearn) mse = {mean_squared_error(y_test, pred)}\")"
   ]
  },
  {
   "cell_type": "markdown",
   "metadata": {},
   "source": [
    "# 2. DecisionTreeClassifier"
   ]
  },
  {
   "cell_type": "code",
   "execution_count": 5,
   "metadata": {},
   "outputs": [
    {
     "data": {
      "text/plain": [
       "array([[ 0.,  0.,  5., 13., 15.,  6.,  0.,  0.,  0.,  2., 16.,  9., 16.,\n",
       "        13.,  0.,  0.,  0.,  4., 14.,  0., 10., 16.,  2.,  0.,  0.,  4.,\n",
       "        15., 11., 15., 16.,  1.,  0.,  0.,  0.,  7., 10.,  3., 13.,  8.,\n",
       "         0.,  0.,  0.,  3.,  0.,  0., 12.,  5.,  0.,  0.,  0., 13., 11.,\n",
       "         4., 16.,  4.,  0.,  0.,  0.,  7., 14., 16., 11.,  1.,  0.],\n",
       "       [ 0.,  1.,  8., 11., 13., 12.,  0.,  0.,  0.,  5.,  9.,  0.,  4.,\n",
       "        16.,  1.,  0.,  0.,  7.,  5.,  0.,  5., 16.,  5.,  0.,  0.,  1.,\n",
       "        13., 11., 13.,  6.,  8.,  0.,  0.,  0.,  3.,  4.,  1.,  4.,  8.,\n",
       "         0.,  0.,  0.,  0.,  0.,  0.,  7.,  5.,  0.,  0.,  2.,  8.,  1.,\n",
       "         2., 14.,  0.,  0.,  0.,  0.,  8., 13., 11.,  3.,  0.,  0.]])"
      ]
     },
     "execution_count": 5,
     "metadata": {},
     "output_type": "execute_result"
    }
   ],
   "source": [
    "dataset = load_digits()\n",
    "X, y = dataset['data'], dataset['target']\n",
    "X = X.reshape(-1, 64)\n",
    "X_train, X_test, y_train, y_test = train_test_split(X, y, test_size=0.3)\n",
    "X_train[:2]"
   ]
  },
  {
   "cell_type": "code",
   "execution_count": 6,
   "metadata": {},
   "outputs": [
    {
     "name": "stdout",
     "output_type": "stream",
     "text": [
      "Accuracy = 0.8444444444444444\n"
     ]
    }
   ],
   "source": [
    "dtc = DecisionTreeClassifier(num_classes=10, max_depth=10, min_samples_split=5)\n",
    "dtc.fit(X_train, y_train)\n",
    "pred = dtc.predict(X_test)\n",
    "pred_ = pred.argmax(axis=1)\n",
    "print(f\"Accuracy = {accuracy_score(y_test, pred_)}\")"
   ]
  },
  {
   "cell_type": "code",
   "execution_count": 7,
   "metadata": {},
   "outputs": [
    {
     "name": "stdout",
     "output_type": "stream",
     "text": [
      "Accuracy (Sklearn) = 0.837037037037037\n"
     ]
    }
   ],
   "source": [
    "dtc = tree.DecisionTreeClassifier(max_depth=10, min_samples_split=5)\n",
    "dtc.fit(X_train, y_train)\n",
    "pred = dtc.predict(X_test)\n",
    "print(f\"Accuracy (Sklearn) = {accuracy_score(y_test, pred)}\")"
   ]
  },
  {
   "cell_type": "markdown",
   "metadata": {},
   "source": [
    "## 3. RandomForestClassifier"
   ]
  },
  {
   "cell_type": "code",
   "execution_count": 8,
   "metadata": {},
   "outputs": [
    {
     "name": "stdout",
     "output_type": "stream",
     "text": [
      "Accuracy = 0.9611111111111111\n"
     ]
    }
   ],
   "source": [
    "rfc = RandomForestClassifier(\n",
    "    num_classes=10, max_depth=10, min_samples_split=5, colsample_bynode=0.5\n",
    ")\n",
    "rfc.fit(X_train, y_train)\n",
    "pred = rfc.predict(X_test)\n",
    "pred_ = pred.argmax(axis=1)\n",
    "print(f\"Accuracy = {accuracy_score(y_test, pred_)}\")"
   ]
  },
  {
   "cell_type": "code",
   "execution_count": 9,
   "metadata": {},
   "outputs": [
    {
     "name": "stdout",
     "output_type": "stream",
     "text": [
      "Accuracy (Sklearn) = 0.9592592592592593\n"
     ]
    }
   ],
   "source": [
    "rfc = ensemble.RandomForestClassifier(\n",
    "    max_depth=10, min_samples_split=5, max_features=0.5\n",
    ")\n",
    "rfc.fit(X_train, y_train)\n",
    "pred = rfc.predict(X_test)\n",
    "print(f\"Accuracy (Sklearn) = {accuracy_score(y_test, pred)}\")"
   ]
  },
  {
   "cell_type": "markdown",
   "metadata": {},
   "source": [
    "## 4. RandomForestRegressor"
   ]
  },
  {
   "cell_type": "code",
   "execution_count": 10,
   "metadata": {},
   "outputs": [
    {
     "data": {
      "text/plain": [
       "array([[-0.09269548, -0.04464164, -0.0816528 , -0.05731319, -0.06073493,\n",
       "        -0.0680145 ,  0.0486401 , -0.0763945 , -0.0664902 , -0.02178823],\n",
       "       [ 0.01628068,  0.05068012,  0.01427248,  0.00121528,  0.00118295,\n",
       "        -0.02135538, -0.03235593,  0.03430886,  0.07496573,  0.04034337]])"
      ]
     },
     "execution_count": 10,
     "metadata": {},
     "output_type": "execute_result"
    }
   ],
   "source": [
    "dataset = load_diabetes()\n",
    "X, y = dataset['data'], dataset['target']\n",
    "X_train, X_test, y_train, y_test = train_test_split(X, y, test_size=0.3)\n",
    "X_train[:2]"
   ]
  },
  {
   "cell_type": "code",
   "execution_count": 11,
   "metadata": {},
   "outputs": [
    {
     "name": "stdout",
     "output_type": "stream",
     "text": [
      "Random Forest Regressor mse = 3226.7848207503025\n"
     ]
    }
   ],
   "source": [
    "rfr = RandomForestRegressor(max_depth=3, min_samples_split=5, colsample_bynode=0.5)\n",
    "rfr.fit(X_train, y_train)\n",
    "pred = rfr.predict(X_test)\n",
    "print(f\"Random Forest Regressor mse = {mean_squared_error(y_test, pred)}\")"
   ]
  },
  {
   "cell_type": "code",
   "execution_count": 12,
   "metadata": {},
   "outputs": [
    {
     "name": "stdout",
     "output_type": "stream",
     "text": [
      "Random Forest Regressor (Sklearn) mse = 3199.318284368496\n"
     ]
    }
   ],
   "source": [
    "rfr = ensemble.RandomForestRegressor(max_depth=3, min_samples_split=5, max_features=0.5)\n",
    "rfr.fit(X_train, y_train)\n",
    "pred = rfr.predict(X_test)\n",
    "print(f\"Random Forest Regressor (Sklearn) mse = {mean_squared_error(y_test, pred)}\")"
   ]
  }
 ],
 "metadata": {
  "kernelspec": {
   "display_name": "base",
   "language": "python",
   "name": "python3"
  },
  "language_info": {
   "codemirror_mode": {
    "name": "ipython",
    "version": 3
   },
   "file_extension": ".py",
   "mimetype": "text/x-python",
   "name": "python",
   "nbconvert_exporter": "python",
   "pygments_lexer": "ipython3",
   "version": "3.11.5"
  }
 },
 "nbformat": 4,
 "nbformat_minor": 2
}
