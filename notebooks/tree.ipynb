{
 "cells": [
  {
   "cell_type": "markdown",
   "metadata": {},
   "source": [
    "# Trees"
   ]
  },
  {
   "cell_type": "code",
   "execution_count": 1,
   "metadata": {},
   "outputs": [],
   "source": [
    "from classic.model.tree import DecisionTreeRegressor, DecisionTreeClassifier\n",
    "from classic.model.ensemble import RandomForestRegressor, RandomForestClassifier\n",
    "from sklearn.datasets import load_diabetes, load_digits\n",
    "from sklearn import tree, ensemble\n",
    "from sklearn.metrics import accuracy_score, mean_squared_error\n",
    "from sklearn.model_selection import train_test_split"
   ]
  },
  {
   "cell_type": "code",
   "execution_count": 2,
   "metadata": {},
   "outputs": [
    {
     "data": {
      "text/plain": [
       "array([[ 0.07803383,  0.05068012, -0.02452876, -0.04240564,  0.00668676,\n",
       "         0.05286081, -0.06917231,  0.08080427, -0.03712884,  0.0569118 ],\n",
       "       [ 0.0090156 , -0.04464164, -0.01267283,  0.02875809, -0.01808039,\n",
       "        -0.00507166, -0.04708248,  0.03430886,  0.02337142, -0.0052198 ]])"
      ]
     },
     "execution_count": 2,
     "metadata": {},
     "output_type": "execute_result"
    }
   ],
   "source": [
    "dataset = load_diabetes()\n",
    "X, y = dataset['data'], dataset['target']\n",
    "X_train, X_test, y_train, y_test = train_test_split(X, y, test_size=0.3)\n",
    "X_train[:2]"
   ]
  },
  {
   "cell_type": "markdown",
   "metadata": {},
   "source": [
    "## 1. DecisionTreeRegressor"
   ]
  },
  {
   "cell_type": "code",
   "execution_count": 3,
   "metadata": {},
   "outputs": [
    {
     "name": "stdout",
     "output_type": "stream",
     "text": [
      "Decision Tree Regressor mse = 4438.447053432027\n"
     ]
    }
   ],
   "source": [
    "dtr = DecisionTreeRegressor(max_depth=3, min_samples_split=5)\n",
    "dtr.fit(X_train, y_train)\n",
    "pred = dtr.predict(X_test)\n",
    "print(f\"Decision Tree Regressor mse = {mean_squared_error(y_test, pred)}\")"
   ]
  },
  {
   "cell_type": "code",
   "execution_count": 4,
   "metadata": {},
   "outputs": [
    {
     "name": "stdout",
     "output_type": "stream",
     "text": [
      "Decision Tree Regressor (Sklearn) mse = 4378.882662412793\n"
     ]
    }
   ],
   "source": [
    "dtr_sklearn = tree.DecisionTreeRegressor(max_depth=3, min_samples_split=5)\n",
    "dtr_sklearn.fit(X_train, y_train)\n",
    "pred = dtr_sklearn.predict(X_test)\n",
    "print(f\"Decision Tree Regressor (Sklearn) mse = {mean_squared_error(y_test, pred)}\")"
   ]
  },
  {
   "cell_type": "markdown",
   "metadata": {},
   "source": [
    "# 2. DecisionTreeClassifier"
   ]
  },
  {
   "cell_type": "code",
   "execution_count": 5,
   "metadata": {},
   "outputs": [
    {
     "data": {
      "text/plain": [
       "array([[ 0.,  4., 13., 16., 16., 12.,  3.,  0.,  0.,  3.,  7.,  4., 13.,\n",
       "        16.,  6.,  0.,  0.,  0.,  0.,  8., 15.,  5.,  0.,  0.,  0.,  0.,\n",
       "         0., 12.,  8.,  0.,  0.,  0.,  0.,  0.,  0.,  7., 12.,  0.,  0.,\n",
       "         0.,  0.,  0.,  0.,  4., 12.,  0.,  0.,  0.,  0.,  1.,  7., 12.,\n",
       "        11.,  0.,  0.,  0.,  0.,  3., 15., 12.,  2.,  0.,  0.,  0.],\n",
       "       [ 0.,  6., 16., 16., 16., 15., 10.,  0.,  0.,  9., 16., 13.,  8.,\n",
       "         6.,  5.,  0.,  0., 12., 16.,  1.,  0.,  0.,  0.,  0.,  0., 10.,\n",
       "        16.,  7.,  0.,  0.,  0.,  0.,  0.,  3., 15., 15.,  3.,  0.,  0.,\n",
       "         0.,  0.,  0.,  3., 16., 13.,  0.,  0.,  0.,  0.,  1.,  5., 16.,\n",
       "         9.,  0.,  0.,  0.,  0.,  9., 16., 11.,  0.,  0.,  0.,  0.]])"
      ]
     },
     "execution_count": 5,
     "metadata": {},
     "output_type": "execute_result"
    }
   ],
   "source": [
    "dataset = load_digits()\n",
    "X, y = dataset['data'], dataset['target']\n",
    "X = X.reshape(-1, 64)\n",
    "X_train, X_test, y_train, y_test = train_test_split(X, y, test_size=0.3)\n",
    "X_train[:2]"
   ]
  },
  {
   "cell_type": "code",
   "execution_count": 6,
   "metadata": {},
   "outputs": [
    {
     "name": "stdout",
     "output_type": "stream",
     "text": [
      "Accuracy = 0.8518518518518519\n"
     ]
    }
   ],
   "source": [
    "dtc = DecisionTreeClassifier(num_classes=10, max_depth=10, min_samples_split=5)\n",
    "dtc.fit(X_train, y_train)\n",
    "pred = dtc.predict(X_test)\n",
    "pred_ = pred.argmax(axis=1)\n",
    "print(f\"Accuracy = {accuracy_score(y_test, pred_)}\")"
   ]
  },
  {
   "cell_type": "code",
   "execution_count": 7,
   "metadata": {},
   "outputs": [
    {
     "name": "stdout",
     "output_type": "stream",
     "text": [
      "Accuracy = 0.8444444444444444\n"
     ]
    }
   ],
   "source": [
    "dtc = tree.DecisionTreeClassifier(max_depth=10, min_samples_split=5)\n",
    "dtc.fit(X_train, y_train)\n",
    "pred = dtc.predict(X_test)\n",
    "print(f\"Accuracy = {accuracy_score(y_test, pred)}\")"
   ]
  },
  {
   "cell_type": "markdown",
   "metadata": {},
   "source": [
    "## 3. RandomForestClassifier"
   ]
  },
  {
   "cell_type": "code",
   "execution_count": 8,
   "metadata": {},
   "outputs": [
    {
     "name": "stdout",
     "output_type": "stream",
     "text": [
      "Accuracy = 0.9666666666666667\n"
     ]
    }
   ],
   "source": [
    "rfc = RandomForestClassifier(\n",
    "    num_classes=10, max_depth=10, min_samples_split=5, colsample_bynode=0.5\n",
    ")\n",
    "rfc.fit(X_train, y_train)\n",
    "pred = rfc.predict(X_test)\n",
    "pred_ = pred.argmax(axis=1)\n",
    "print(f\"Accuracy = {accuracy_score(y_test, pred_)}\")"
   ]
  },
  {
   "cell_type": "code",
   "execution_count": 9,
   "metadata": {},
   "outputs": [
    {
     "name": "stdout",
     "output_type": "stream",
     "text": [
      "Accuracy = 0.9629629629629629\n"
     ]
    }
   ],
   "source": [
    "rfc = ensemble.RandomForestClassifier(\n",
    "    max_depth=10, min_samples_split=5, max_features=0.5\n",
    ")\n",
    "rfc.fit(X_train, y_train)\n",
    "pred = rfc.predict(X_test)\n",
    "print(f\"Accuracy = {accuracy_score(y_test, pred)}\")"
   ]
  },
  {
   "cell_type": "markdown",
   "metadata": {},
   "source": [
    "## 4. RandomForestRegressor"
   ]
  },
  {
   "cell_type": "code",
   "execution_count": 10,
   "metadata": {},
   "outputs": [
    {
     "data": {
      "text/plain": [
       "array([[ 0.0090156 , -0.04464164, -0.01267283,  0.02875809, -0.01808039,\n",
       "        -0.00507166, -0.04708248,  0.03430886,  0.02337142, -0.0052198 ],\n",
       "       [-0.07453279, -0.04464164,  0.0433734 , -0.03321323,  0.01219057,\n",
       "         0.00025186,  0.06336665, -0.03949338, -0.02712902, -0.04664087]])"
      ]
     },
     "execution_count": 10,
     "metadata": {},
     "output_type": "execute_result"
    }
   ],
   "source": [
    "dataset = load_diabetes()\n",
    "X, y = dataset['data'], dataset['target']\n",
    "X_train, X_test, y_train, y_test = train_test_split(X, y, test_size=0.3)\n",
    "X_train[:2]"
   ]
  },
  {
   "cell_type": "code",
   "execution_count": 11,
   "metadata": {},
   "outputs": [
    {
     "name": "stdout",
     "output_type": "stream",
     "text": [
      "Random Forest Regressor mse = 3649.1340157616573\n"
     ]
    }
   ],
   "source": [
    "rfr = RandomForestRegressor(max_depth=3, min_samples_split=5, colsample_bynode=0.5)\n",
    "rfr.fit(X_train, y_train)\n",
    "pred = rfr.predict(X_test)\n",
    "print(f\"Random Forest Regressor mse = {mean_squared_error(y_test, pred)}\")"
   ]
  },
  {
   "cell_type": "code",
   "execution_count": 12,
   "metadata": {},
   "outputs": [
    {
     "name": "stdout",
     "output_type": "stream",
     "text": [
      "Sklearn Random Forest Regressor mse = 3593.775873269387\n"
     ]
    }
   ],
   "source": [
    "rfr = ensemble.RandomForestRegressor(max_depth=3, min_samples_split=5, max_features=0.5)\n",
    "rfr.fit(X_train, y_train)\n",
    "pred = rfr.predict(X_test)\n",
    "print(f\"Sklearn Random Forest Regressor mse = {mean_squared_error(y_test, pred)}\")"
   ]
  }
 ],
 "metadata": {
  "kernelspec": {
   "display_name": "base",
   "language": "python",
   "name": "python3"
  },
  "language_info": {
   "codemirror_mode": {
    "name": "ipython",
    "version": 3
   },
   "file_extension": ".py",
   "mimetype": "text/x-python",
   "name": "python",
   "nbconvert_exporter": "python",
   "pygments_lexer": "ipython3",
   "version": "3.11.5"
  }
 },
 "nbformat": 4,
 "nbformat_minor": 2
}
